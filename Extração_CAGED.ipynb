{
 "cells": [
  {
   "cell_type": "markdown",
   "metadata": {
    "id": "UPAqpoPjM9Gk"
   },
   "source": [
    "# Preparação"
   ]
  },
  {
   "cell_type": "code",
   "execution_count": null,
   "metadata": {
    "id": "2Izy_c8lGM-l"
   },
   "outputs": [],
   "source": [
    "# Bibliotecas\n",
    "import pandas as pd\n",
    "from pandas import DataFrame\n",
    "import numpy as np\n",
    "import sys\n",
    "import chardet\n",
    "import chardet.universaldetector\n",
    "!pip -q install unidecode\n",
    "import unidecode\n",
    "from functools import lru_cache\n",
    "import os\n",
    "from os import remove\n",
    "import gc\n",
    "!pip -q install wget\n",
    "import wget\n",
    "!pip -q install py7zr\n",
    "from py7zr import SevenZipFile\n",
    "import glob\n",
    "from io import StringIO\n",
    "\n",
    "# BigQuery\n",
    "!pip install --upgrade -q google-cloud-bigquery\n",
    "\n",
    "# Cloud Storage\n",
    "!pip install --upgrade -q google-cloud-storage\n",
    "\n",
    "from google.colab import auth\n",
    "from google.cloud import storage"
   ]
  },
  {
   "cell_type": "markdown",
   "metadata": {
    "id": "qx8Ykbf4mdxF"
   },
   "source": [
    "# Configurando GCS"
   ]
  },
  {
   "cell_type": "code",
   "execution_count": 2,
   "metadata": {
    "executionInfo": {
     "elapsed": 137169,
     "status": "ok",
     "timestamp": 1747225075390,
     "user": {
      "displayName": "João Victor Vaz",
      "userId": "00425446525784634821"
     },
     "user_tz": 180
    },
    "id": "EjxbLs8TmbaD"
   },
   "outputs": [],
   "source": [
    "# Autenticar\n",
    "auth.authenticate_user()"
   ]
  },
  {
   "cell_type": "code",
   "execution_count": null,
   "metadata": {
    "executionInfo": {
     "elapsed": 1195,
     "status": "ok",
     "timestamp": 1747225076587,
     "user": {
      "displayName": "João Victor Vaz",
      "userId": "00425446525784634821"
     },
     "user_tz": 180
    },
    "id": "hTj3WksbmcyE"
   },
   "outputs": [],
   "source": [
    "# Inicializa o cliente do GCS\n",
    "client = storage.Client(project=\"<seu-projeto-aqui>\")\n",
    "bucket_name = '<seu-bucket-aqui>'\n",
    "bucket = client.get_bucket(bucket_name)"
   ]
  },
  {
   "cell_type": "markdown",
   "metadata": {
    "id": "wqHEWfrdNXm_"
   },
   "source": [
    "## Funções"
   ]
  },
  {
   "cell_type": "code",
   "execution_count": 6,
   "metadata": {
    "executionInfo": {
     "elapsed": 10,
     "status": "ok",
     "timestamp": 1747225176216,
     "user": {
      "displayName": "João Victor Vaz",
      "userId": "00425446525784634821"
     },
     "user_tz": 180
    },
    "id": "MlJZOKX6n9Dy"
   },
   "outputs": [],
   "source": [
    "def salvar_no_gcs(arquivo_ou_df, path_blob):\n",
    "    try:\n",
    "        # Se for um DataFrame, salva como CSV temporário\n",
    "        if isinstance(arquivo_ou_df, DataFrame):\n",
    "            temp_file = \"temp.csv\"\n",
    "            arquivo_ou_df.to_csv(temp_file, index=False)\n",
    "        elif isinstance(arquivo_ou_df, str) and os.path.exists(arquivo_ou_df):\n",
    "            temp_file = arquivo_ou_df\n",
    "        else:\n",
    "            raise ValueError(\"Entrada deve ser um DataFrame ou caminho de arquivo existente.\")\n",
    "\n",
    "        # Envia para o GCS\n",
    "        blob = bucket.blob(path_blob)\n",
    "        blob.upload_from_filename(temp_file)\n",
    "        print(f\"📁 Salvo em: gs://{bucket_name}/{path_blob}\")\n",
    "\n",
    "    except Exception as e:\n",
    "        print(\"❌ Erro ao salvar no GCS:\", e)\n",
    "\n",
    "    finally:\n",
    "        # Remove apenas o temporário criado internamente\n",
    "        if 'temp_file' in locals() and temp_file == \"temp.csv\" and os.path.exists(temp_file):\n",
    "            os.remove(temp_file)"
   ]
  },
  {
   "cell_type": "code",
   "execution_count": 7,
   "metadata": {
    "executionInfo": {
     "elapsed": 39,
     "status": "ok",
     "timestamp": 1747225177556,
     "user": {
      "displayName": "João Victor Vaz",
      "userId": "00425446525784634821"
     },
     "user_tz": 180
    },
    "id": "Xn23ihgBNXnA"
   },
   "outputs": [],
   "source": [
    "# Função para baixar e extrair os arquivos da CAGED\n",
    "def extract_caged (ano, mes):\n",
    "  \"\"\" Faz o download dos arquivos do NOVO CAGED para o ano e o mês especificados.\n",
    "  O período do NOVO CAGED tem início em Janeiro de 2020.\n",
    "  Nesse script não extraímos os microdados antriores a esse período devido a divergências metodológicas estabelecidas pelo MTE.\n",
    "\n",
    "  São 3 tipos de arquivo: CAGEDMOV, CAGEDFOR e CAGEDEXC.\n",
    "    1. CAGEDMOV: movimentações declaradas dentro do prazo com competência de declaração igual a AAAAMM.\n",
    "    2. CAGEDFOR: movimentações declaradas fora do prazo com competência de declaração igual a AAAAMM.\n",
    "    3. CAGEDEXC: movimentações excluídas com competência de declaração da exclusão igual a AAAAMM.\n",
    "\n",
    "  Argumentos:\n",
    "      ano: Ano do arquivo.\n",
    "      mes: Mês do arquivo.\n",
    "  \"\"\"\n",
    "  # Download\n",
    "  if ano < 2020:\n",
    "        print(f\"❌ Microdados de {mes}/{ano} ignorados.\")\n",
    "        return\n",
    "\n",
    "  tipos_arquivos = ['CAGEDEXC', 'CAGEDFOR', 'CAGEDMOV']\n",
    "  mes_str = str(mes).zfill(2)\n",
    "\n",
    "  for tipo in tipos_arquivos:\n",
    "    url = f'ftp://ftp.mtps.gov.br/pdet/microdados/NOVO CAGED/{ano}/{ano}{mes_str}/{tipo}{ano}{mes_str}.7z'\n",
    "    nome_arquivo = f'{tipo}{ano}{mes_str}.7z'\n",
    "\n",
    "    try:\n",
    "        print(f'⬇️ Baixando {tipo} de {mes_str}/{ano}...')\n",
    "        wget.download(url, nome_arquivo)\n",
    "    except Exception as e:\n",
    "        print(f'❌ Arquivo {tipo} de {mes_str}/{ano} indisponível: {e}')\n",
    "        continue\n",
    "\n",
    "    # Extração do arquivo 7z\n",
    "    try:\n",
    "        with SevenZipFile(nome_arquivo, mode='r') as archive:\n",
    "          archive.extractall()\n",
    "          print(f'✅ Extraído: {tipo}{ano}{mes_str}.txt')\n",
    "    except Exception as e:\n",
    "        print(f'❌ Erro na extração: {nome_arquivo} → {e}')\n",
    "        continue\n",
    "\n",
    "    # Salvando arquivo extraído no GCS\n",
    "    try:\n",
    "        nome_extraido = f'{tipo}{ano}{mes_str}.txt'\n",
    "        path_gcs = f\"caged/raw/ano={ano}/mes={mes_str}/{nome_extraido}\"\n",
    "        salvar_no_gcs(nome_extraido, path_gcs)\n",
    "    except Exception as e:\n",
    "        print(f'❌ Erro ao enviar para GCS: {e}')\n",
    "        continue\n",
    "\n",
    "    # Remoção do arquivo .7z e .txt após upload\n",
    "    try:\n",
    "        remove(nome_arquivo)\n",
    "        remove(nome_extraido)\n",
    "        print(f'🗑️ Arquivos locais removidos.\\n')\n",
    "    except Exception as e:\n",
    "        print(f'⚠️ Erro ao remover arquivos locais: {e}')"
   ]
  },
  {
   "cell_type": "markdown",
   "metadata": {
    "id": "yEXom9FiNCmy"
   },
   "source": [
    "# Download e Extração dos arquivos"
   ]
  },
  {
   "cell_type": "markdown",
   "metadata": {
    "id": "qYOkbnByNXnB"
   },
   "source": [
    "## Extração (2020 até mais recente)"
   ]
  },
  {
   "cell_type": "code",
   "execution_count": null,
   "metadata": {
    "id": "cbovT9RSNOYa"
   },
   "outputs": [],
   "source": [
    "# Extraindo arquivos para todo o período\n",
    "for ano in range(2020, 2026):\n",
    "    for mes in range(1, 13):\n",
    "        extract_caged(ano, mes)"
   ]
  },
  {
   "cell_type": "markdown",
   "metadata": {
    "id": "-JXNp7OjNXnC"
   },
   "source": [
    "## Extração (personalizada)"
   ]
  },
  {
   "cell_type": "code",
   "execution_count": null,
   "metadata": {
    "id": "0uwffAxQdsMO"
   },
   "outputs": [],
   "source": [
    "# Extraindo arquivos de um mês específico\n",
    "extract_caged(2024, 8)"
   ]
  }
 ],
 "metadata": {
  "colab": {
   "provenance": [],
   "toc_visible": true
  },
  "kernelspec": {
   "display_name": "Python 3",
   "language": "python",
   "name": "python3"
  },
  "language_info": {
   "codemirror_mode": {
    "name": "ipython",
    "version": 3
   },
   "file_extension": ".py",
   "mimetype": "text/x-python",
   "name": "python",
   "nbconvert_exporter": "python",
   "pygments_lexer": "ipython3",
   "version": "3.11.9"
  }
 },
 "nbformat": 4,
 "nbformat_minor": 0
}
