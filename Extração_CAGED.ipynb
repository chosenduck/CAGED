{
 "cells": [
  {
   "cell_type": "markdown",
   "metadata": {
    "id": "UPAqpoPjM9Gk"
   },
   "source": [
    "# Preparação"
   ]
  },
  {
   "cell_type": "code",
   "execution_count": null,
   "metadata": {
    "id": "2Izy_c8lGM-l"
   },
   "outputs": [],
   "source": [
    "# Bibliotecas\n",
    "import pandas as pd\n",
    "import numpy as np\n",
    "import sys\n",
    "import chardet\n",
    "import chardet.universaldetector\n",
    "!pip install unidecode\n",
    "import unidecode\n",
    "from functools import lru_cache\n",
    "import os\n",
    "from os import remove\n",
    "import gc\n",
    "!pip install wget\n",
    "import wget\n",
    "!pip install py7zr\n",
    "from py7zr import SevenZipFile\n",
    "import glob\n",
    "from io import StringIO"
   ]
  },
  {
   "cell_type": "code",
   "execution_count": null,
   "metadata": {
    "colab": {
     "base_uri": "https://localhost:8080/"
    },
    "executionInfo": {
     "elapsed": 25815,
     "status": "ok",
     "timestamp": 1741693184655,
     "user": {
      "displayName": "João Victor Vaz",
      "userId": "00425446525784634821"
     },
     "user_tz": 180
    },
    "id": "fPScSpQ8NsoW",
    "outputId": "f9dc154b-9470-4043-cb13-2bca069af777"
   },
   "outputs": [
    {
     "name": "stdout",
     "output_type": "stream",
     "text": [
      "Mounted at /content/drive\n"
     ]
    }
   ],
   "source": [
    "from google.colab import drive\n",
    "drive.mount('/content/drive')"
   ]
  },
  {
   "cell_type": "code",
   "execution_count": null,
   "metadata": {
    "id": "_DsOhH_oNXm_"
   },
   "outputs": [],
   "source": [
    "# Ajustando diretórios de trabalho\n",
    "diretorio_brutos = \"...\""
   ]
  },
  {
   "cell_type": "markdown",
   "metadata": {
    "id": "wqHEWfrdNXm_"
   },
   "source": [
    "## Funções"
   ]
  },
  {
   "cell_type": "code",
   "execution_count": null,
   "metadata": {
    "id": "Xn23ihgBNXnA"
   },
   "outputs": [],
   "source": [
    "# Função para baixar e extrair os arquivos da CAGED\n",
    "def extract_caged (ano, mes):\n",
    "  \"\"\" Faz o download dos arquivos do NOVO CAGED para o ano e o mês especificados.\n",
    "  O período do NOVO CAGED tem início em Janeiro de 2020.\n",
    "  Nesse script não extraímos os microdados antriores a esse período devido a divergências metodológicas estabelecidas pelo MTE.\n",
    "\n",
    "  São 3 tipos de arquivo: CAGEDMOV, CAGEDFOR e CAGEDEXC.\n",
    "    1. CAGEDMOV: movimentações declaradas dentro do prazo com competência de declaração igual a AAAAMM.\n",
    "    2. CAGEDFOR: movimentações declaradas fora do prazo com competência de declaração igual a AAAAMM.\n",
    "    3. CAGEDEXC: movimentações excluídas com competência de declaração da exclusão igual a AAAAMM.\n",
    "\n",
    "  Argumentos:\n",
    "      ano: Ano do arquivo.\n",
    "      mes: Mês do arquivo.\n",
    "  \"\"\"\n",
    "  # Download\n",
    "  if ano < 2020:\n",
    "        print(f\"Os microdados de {mes}/{ano} não serão baixados.\")\n",
    "        return\n",
    "\n",
    "  tipos_arquivos = ['CAGEDEXC', 'CAGEDFOR', 'CAGEDMOV']\n",
    "\n",
    "  for tipo in tipos_arquivos:\n",
    "    url = f'ftp://ftp.mtps.gov.br/pdet/microdados/NOVO CAGED/{ano}/{ano}{mes}/{tipo}{ano}{mes}.7z'\n",
    "    nome_arquivo = f'{tipo}{ano}{mes}.7z'\n",
    "\n",
    "    try:\n",
    "      print(f'\\nBaixando {tipo} de {mes}/{ano}...')\n",
    "      wget.download(url, nome_arquivo)\n",
    "      print(f'\\n{tipo}{ano}{mes}.7z baixado com sucesso.')\n",
    "    except:\n",
    "      print(f'\\nOs microdados {tipo} de {mes}/{ano} não estão disponíveis.')\n",
    "      continue\n",
    "\n",
    "    # Extração do arquivo 7z\n",
    "    try:\n",
    "        with SevenZipFile(nome_arquivo, mode = 'r') as archive:\n",
    "             archive.extractall(diretorio_brutos)\n",
    "             print(f'{tipo}{ano}{mes}.txt extraído com sucesso.')\n",
    "    except:\n",
    "        print(f'Erro ao extrair {tipo}{ano}{mes}.7z.')\n",
    "        continue\n",
    "\n",
    "    # Remoção do arquivo 7z após a extração\n",
    "    try:\n",
    "        remove(nome_arquivo)\n",
    "        print(f'{nome_arquivo} removido.\\n')\n",
    "    except:\n",
    "        print(f'Erro ao remover {nome_arquivo}.')"
   ]
  },
  {
   "cell_type": "markdown",
   "metadata": {
    "id": "yEXom9FiNCmy"
   },
   "source": [
    "# Download e Extração dos arquivos"
   ]
  },
  {
   "cell_type": "markdown",
   "metadata": {
    "id": "qYOkbnByNXnB"
   },
   "source": [
    "## Extração (2020 até mais recente)"
   ]
  },
  {
   "cell_type": "code",
   "execution_count": null,
   "metadata": {
    "id": "cbovT9RSNOYa"
   },
   "outputs": [],
   "source": [
    "# Extraindo arquivos para todo o período\n",
    "\n",
    "# Definir meses de janeiro a dezembro\n",
    "meses = [f'{i:02}' for i in range(1, 13)]\n",
    "\n",
    "# Loop\n",
    "for ano in range(2020, 2026):\n",
    "    for mes in meses:\n",
    "        extract_caged(ano, mes)"
   ]
  },
  {
   "cell_type": "markdown",
   "metadata": {
    "id": "-JXNp7OjNXnC"
   },
   "source": [
    "## Extração (personalizada)"
   ]
  },
  {
   "cell_type": "code",
   "execution_count": null,
   "metadata": {
    "id": "0uwffAxQdsMO"
   },
   "outputs": [],
   "source": [
    "# Extraindo arquivos de um mês específico\n",
    "extract_caged(2023, 11)\n",
    "extract_caged(2025, '01')"
   ]
  }
 ],
 "metadata": {
  "colab": {
   "provenance": []
  },
  "kernelspec": {
   "display_name": "Python 3",
   "language": "python",
   "name": "python3"
  },
  "language_info": {
   "codemirror_mode": {
    "name": "ipython",
    "version": 3
   },
   "file_extension": ".py",
   "mimetype": "text/x-python",
   "name": "python",
   "nbconvert_exporter": "python",
   "pygments_lexer": "ipython3",
   "version": "3.11.9"
  }
 },
 "nbformat": 4,
 "nbformat_minor": 0
}
