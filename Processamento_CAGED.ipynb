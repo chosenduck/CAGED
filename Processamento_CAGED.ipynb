{
  "cells": [
    {
      "cell_type": "markdown",
      "metadata": {
        "id": "KeumLNfab1V6"
      },
      "source": [
        "# PREPARAÇÃO\n",
        "ATENÇÂO: Lembrar de alterar o tipo de execução para R."
      ]
    },
    {
      "cell_type": "code",
      "execution_count": null,
      "metadata": {
        "colab": {
          "base_uri": "https://localhost:8080/",
          "height": 129
        },
        "id": "SkNqvWlibdKu",
        "outputId": "cc6451fe-2405-4b65-f4c9-3d9547aacabd",
        "vscode": {
          "languageId": "r"
        }
      },
      "outputs": [
        {
          "data": {
            "text/html": [
              "<table class=\"dataframe\">\n",
              "<caption>A matrix: 2 × 6 of type dbl</caption>\n",
              "<thead>\n",
              "\t<tr><th></th><th scope=col>used</th><th scope=col>(Mb)</th><th scope=col>gc trigger</th><th scope=col>(Mb)</th><th scope=col>max used</th><th scope=col>(Mb)</th></tr>\n",
              "</thead>\n",
              "<tbody>\n",
              "\t<tr><th scope=row>Ncells</th><td> 658395</td><td>35.2</td><td>1454438</td><td>77.7</td><td>1335218</td><td>71.4</td></tr>\n",
              "\t<tr><th scope=row>Vcells</th><td>1225330</td><td> 9.4</td><td>8388608</td><td>64.0</td><td>1975093</td><td>15.1</td></tr>\n",
              "</tbody>\n",
              "</table>\n"
            ],
            "text/latex": [
              "A matrix: 2 × 6 of type dbl\n",
              "\\begin{tabular}{r|llllll}\n",
              "  & used & (Mb) & gc trigger & (Mb) & max used & (Mb)\\\\\n",
              "\\hline\n",
              "\tNcells &  658395 & 35.2 & 1454438 & 77.7 & 1335218 & 71.4\\\\\n",
              "\tVcells & 1225330 &  9.4 & 8388608 & 64.0 & 1975093 & 15.1\\\\\n",
              "\\end{tabular}\n"
            ],
            "text/markdown": [
              "\n",
              "A matrix: 2 × 6 of type dbl\n",
              "\n",
              "| <!--/--> | used | (Mb) | gc trigger | (Mb) | max used | (Mb) |\n",
              "|---|---|---|---|---|---|---|\n",
              "| Ncells |  658395 | 35.2 | 1454438 | 77.7 | 1335218 | 71.4 |\n",
              "| Vcells | 1225330 |  9.4 | 8388608 | 64.0 | 1975093 | 15.1 |\n",
              "\n"
            ],
            "text/plain": [
              "       used    (Mb) gc trigger (Mb) max used (Mb)\n",
              "Ncells  658395 35.2 1454438    77.7 1335218  71.4\n",
              "Vcells 1225330  9.4 8388608    64.0 1975093  15.1"
            ]
          },
          "metadata": {},
          "output_type": "display_data"
        }
      ],
      "source": [
        "# Limpando Environment e Memória ===============================================\n",
        "rm(list=ls(all=T))\n",
        "gc()"
      ]
    },
    {
      "cell_type": "code",
      "execution_count": null,
      "metadata": {
        "id": "a_ZUW2v8bynS",
        "vscode": {
          "languageId": "r"
        }
      },
      "outputs": [],
      "source": [
        "# Bibliotecas ==================================================================\n",
        "# Instala e carrega pacman (para facilitar o gerenciamento de pacotes)\n",
        "if (!requireNamespace(\"pacman\", quietly = TRUE)) install.packages(\"pacman\")\n",
        "\n",
        "p_load(\n",
        "  tidyverse,           # Conjunto de pacotes para manipulação e visualização de dados (dplyr, ggplot2, tidyr, purrr, stringr, lubridate etc)\n",
        "  plyr,                # Para usar o mapvalues\n",
        "  data.table,          # Manipulação eficiente e rápida de grandes tabelas de dados\n",
        "  janitor,             # Limpeza e organização de dados\n",
        "  openxlsx,            # Leitura e escrita de arquivos Excel (xlsx) sem necessidade do Excel instalado\n",
        "  readxl,              # Leitura de arquivos Excel (xls e xlsx)\n",
        "  rio,                 # Importação e exportação simplificada de vários formatos de arquivo\n",
        "  skimr,               # Resumo rápido e completo das variáveis do dataframe\n",
        "  vroom,               # Leitura rápida de arquivos CSV e similares, otimizando desempenho\n",
        "  arrow,               # Interface para arquivos Apache Arrow e Parquet para alta performance em I/O\n",
        "  googleCloudStorageR  # Interface para Google Cloud Storage, upload/download de arquivos na nuvem\n",
        "  )"
      ]
    },
    {
      "cell_type": "code",
      "execution_count": null,
      "metadata": {
        "id": "SXStX6sMeqBz",
        "vscode": {
          "languageId": "r"
        }
      },
      "outputs": [],
      "source": [
        "# Acesso e autenticação ao GCS no R no Colab ===================================\n",
        "# (subir arquivo da chave no ambiente antes)\n",
        "chave_jason <- \"<sua-chave-json-aqui>\"\n",
        "\n",
        "Sys.setenv(\"GCS_AUTH_FILE\" = chave_jason)\n",
        "Sys.setenv(\"GAR_CLIENT_JSON\" = chave_jason)\n",
        "\n",
        "gcs_auth(json_file = chave_jason)"
      ]
    },
    {
      "cell_type": "code",
      "execution_count": null,
      "metadata": {
        "id": "2gRJVWpse321",
        "vscode": {
          "languageId": "r"
        }
      },
      "outputs": [],
      "source": [
        "# Ajustando diretórios =========================================================\n",
        "bucket <- \"<seu-bucket-json-aqui\"\n",
        "prefixo_brutos <- \"<seu-prefixo-json-aqui\"\n",
        "prefixo_processados <- \"<seu-prefixo-json-aqui\""
      ]
    },
    {
      "cell_type": "code",
      "execution_count": null,
      "metadata": {
        "id": "4C_JSeJnk1VE",
        "vscode": {
          "languageId": "r"
        }
      },
      "outputs": [],
      "source": [
        "# Abrindo Dicionários (subir arquivo do dicionário no ambiente antes) ==========\n",
        "dicionarios <- lapply(\n",
        "  excel_sheets(\"dicionários.xlsx\"),\n",
        "  function(sheet) {\n",
        "    read_excel(\"dicionários.xlsx\", sheet = sheet)\n",
        "  }\n",
        ")\n",
        "\n",
        "dic_classes <- dicionarios[[1]]\n",
        "dic_faixaeta <- dicionarios[[2]]\n",
        "dic_escolaridade <- dicionarios[[3]]\n",
        "dic_sexo <- dicionarios[[4]]\n",
        "dic_racacor <- dicionarios[[5]]\n",
        "dic_local <- dicionarios[[6]]\n",
        "\n",
        "rm(dicionarios)"
      ]
    },
    {
      "cell_type": "markdown",
      "metadata": {
        "id": "o3wbkOTFmDzA"
      },
      "source": [
        "# PROCESSAMENTO"
      ]
    },
    {
      "cell_type": "code",
      "execution_count": null,
      "metadata": {
        "id": "XpUh41C9OyuI",
        "vscode": {
          "languageId": "r"
        }
      },
      "outputs": [],
      "source": [
        "# Funções ======================================================================\n",
        "# Parâmetros -------------------------------------------------------------------\n",
        "salario_minimo <- c(\n",
        "  '2020' = 1045,\n",
        "  '2021' = 1100,\n",
        "  '2022' = 1212,\n",
        "  '2023' = 1302,\n",
        "  '2024' = 1412,\n",
        "  '2025' = 1518\n",
        "  )\n",
        "\n",
        "colunas_selecionadas <- c(\n",
        "  \"competenciamov\", \"regiao\", \"uf\",\n",
        "  \"subclasse\",\"sexo\", \"idade\", \"graudeinstrucao\", \"racacor\", \"salario\",\n",
        "  \"admissoes\", \"desligamentos\", \"saldomovimentacao\"\n",
        "  )\n",
        "\n",
        "colunas_agrupar <- c(\n",
        "  \"competenciamov\", \"regiao\", \"uf\",\n",
        "  \"subclasse\",\"sexo\", \"idade\", \"graudeinstrucao\", \"racacor\", \"salario\"\n",
        "  )\n",
        "\n",
        "# filtro_uf <- 31\n",
        "\n",
        "# Funções auxiliares -----------------------------------------------------------\n",
        "adicionar_faixaeta <- function(idade) {\n",
        "  case_when(\n",
        "    idade >= 10 & idade <= 14 ~ 1,\n",
        "    idade >= 15 & idade <= 17 ~ 2,\n",
        "    idade >= 18 & idade <= 24 ~ 3,\n",
        "    idade >= 25 & idade <= 29 ~ 4,\n",
        "    idade >= 30 & idade <= 39 ~ 5,\n",
        "    idade >= 40 & idade <= 49 ~ 6,\n",
        "    idade >= 50 & idade <= 64 ~ 7,\n",
        "    idade >= 65 ~ 8,\n",
        "    TRUE ~ 99\n",
        "  )\n",
        "}\n",
        "\n",
        "adicionar_regiao <- function(regiao) {\n",
        "  case_when(\n",
        "    regiao == 1 ~ \"Norte\",\n",
        "    regiao == 2 ~ \"Nordeste\",\n",
        "    regiao == 3 ~ \"Sudeste\",\n",
        "    regiao == 4 ~ \"Sul\",\n",
        "    regiao == 5 ~ \"Centro-Oeste\",\n",
        "    TRUE ~ \"Não Informado\"\n",
        "  )\n",
        "}\n",
        "\n",
        "# Função que realiza o processamento específico dos dados ----------------------\n",
        "processamento <- function(dados, tipo_arquivo) {\n",
        "\n",
        "  # Renomeia colunas para minúsculas e remove acentos\n",
        "  setnames(dados, old = names(dados), new = tolower(stri_trans_general(names(dados), \"Latin-ASCII\")))\n",
        "\n",
        "  # Aplica filtro de UF\n",
        "  # dados <- dados[uf == filtro_uf]\n",
        "\n",
        "  # Ajusta colunas de admissoes, desligamentos e saldo com base no tipo de arquivo\n",
        "  if (tipo_arquivo == \"CAGEDEXC\") {\n",
        "    dados[, `:=`(\n",
        "      admissoes = ifelse(saldomovimentacao == 1, -1, 0),\n",
        "      desligamentos = ifelse(saldomovimentacao == -1, -1, 0),\n",
        "      saldomovimentacao = ifelse(saldomovimentacao == 1, -1, 1)\n",
        "    )]\n",
        "  } else {\n",
        "    dados[, `:=`(\n",
        "      admissoes = ifelse(saldomovimentacao == 1, 1, 0),\n",
        "      desligamentos = ifelse(saldomovimentacao == -1, 1, 0)\n",
        "    )]\n",
        "  }\n",
        "\n",
        "  # Seleciona apenas as colunas necessárias (filtra as que existem no data)\n",
        "  cols_existentes <- intersect(colunas_selecionadas, names(dados))\n",
        "  dados <- dados[, ..cols_existentes]\n",
        "\n",
        "  # Agrupa e soma variáveis numéricas\n",
        "  dados_agrupados <- dados[, .(\n",
        "    admissoes = sum(admissoes, na.rm = TRUE),\n",
        "    desligamentos = sum(desligamentos, na.rm = TRUE),\n",
        "    saldomovimentacao = sum(saldomovimentacao, na.rm = TRUE)\n",
        "  ), by = colunas_agrupar]\n",
        "\n",
        "  # Ajusta ano e converte competenciamov em Date\n",
        "  dados_agrupados[, ano := substr(competenciamov, 1, 4)]\n",
        "  dados_agrupados[, competenciamov := suppressWarnings(as.Date(\n",
        "    paste0(substr(as.character(competenciamov), 1, 6), \"01\"), format = \"%Y%m%d\"))]\n",
        "\n",
        "  # Ajusta salario: troca vírgula por ponto, trata NA como zero\n",
        "  dados_agrupados[, salario := as.numeric(str_replace_na(str_replace(as.character(salario), \",\", \".\"), \"0\"))]\n",
        "\n",
        "  # Salário mínimo do ano\n",
        "  dados_agrupados[, salario_minimo_ano := salario_minimo[ano]]\n",
        "\n",
        "  # Faixa salarial com múltiplos níveis\n",
        "  dados_agrupados[, faixa_salarial := fifelse(\n",
        "    salario <= salario_minimo_ano, \"Até 1 salário mínimo\",\n",
        "    fifelse(salario > salario_minimo_ano & salario <= 2 * salario_minimo_ano, \"Entre 1 e 2 salários mínimos\",\n",
        "      fifelse(salario > 2 * salario_minimo_ano & salario <= 3 * salario_minimo_ano, \"Entre 2 e 3 salários mínimos\",\n",
        "        fifelse(salario > 3 * salario_minimo_ano & salario <= 4 * salario_minimo_ano, \"Entre 3 e 4 salários mínimos\",\n",
        "          fifelse(salario > 4 * salario_minimo_ano & salario <= 5 * salario_minimo_ano, \"Entre 4 e 5 salários mínimos\",\n",
        "            fifelse(salario > 5 * salario_minimo_ano & salario <= 10 * salario_minimo_ano, \"Entre 5 e 10 salários mínimos\",\n",
        "              \"Mais de 10 salários mínimos\"\n",
        "            )\n",
        "          )\n",
        "        )\n",
        "      )\n",
        "    )\n",
        "  )]\n",
        "\n",
        "  # Faixa etária usando função auxiliar\n",
        "  dados_agrupados[, faixaetaria := adicionar_faixaeta(idade)]\n",
        "\n",
        "  # Mapeamento dos dicionários usando mapvalues\n",
        "  dados_agrupados[, sexo := mapvalues(sexo, from = dic_sexo$cod, to = dic_sexo$nom, warn_missing = FALSE)]\n",
        "  dados_agrupados[, racacor := mapvalues(racacor, from = dic_racacor$cod, to = dic_racacor$nom, warn_missing = FALSE)]\n",
        "  dados_agrupados[, graudeinstrucao := mapvalues(graudeinstrucao, from = dic_escolaridade$cod, to = dic_escolaridade$nom, warn_missing = FALSE)]\n",
        "  dados_agrupados[, faixaeta := mapvalues(faixaetaria, from = dic_faixaeta$cod, to = dic_faixaeta$nom, warn_missing = FALSE)]\n",
        "  dados_agrupados[, subclasse_original := subclasse]\n",
        "  dados_agrupados[, subclasse := mapvalues(subclasse_original, from = dic_classes$Subclasse, to = dic_classes$`Nome Subclasse`, warn_missing = FALSE)]\n",
        "  dados_agrupados[, classe := mapvalues(subclasse_original, from = dic_classes$Subclasse, to = dic_classes$`Nome Classe`, warn_missing = FALSE)]\n",
        "  dados_agrupados[, secao := mapvalues(subclasse_original, from = dic_classes$Subclasse, to = dic_classes$`Nome Seção`, warn_missing = FALSE)]\n",
        "  dados_agrupados[, uf := mapvalues(uf, from = dic_local$UF, to = dic_local$Nome_UF, warn_missing = FALSE)]\n",
        "\n",
        "  # Região nomeada via função auxiliar (adicionar_regiao)\n",
        "  dados_agrupados[, regiao := adicionar_regiao(regiao)]\n",
        "\n",
        "  # Remover coluna auxiliar ano e subclasse_original se desejar\n",
        "  dados_agrupados[, ano := NULL]\n",
        "  dados_agrupados[, subclasse_original := NULL]\n",
        "  dados_agrupados[, salario_minimo_ano := NULL]\n",
        "  dados_agrupados[, faixaetaria := NULL]\n",
        "}"
      ]
    },
    {
      "cell_type": "code",
      "execution_count": null,
      "metadata": {
        "colab": {
          "base_uri": "https://localhost:8080/"
        },
        "collapsed": true,
        "id": "bzs85nLXoJoE",
        "outputId": "ea15bc5c-d8ca-441e-a921-2173f6c837d5",
        "vscode": {
          "languageId": "r"
        }
      },
      "outputs": [],
      "source": [
        "# Listar arquivos .txt no bucket\n",
        "arquivos_txt <- gcs_list_objects(bucket = bucket, prefix = prefixo_brutos)$name\n",
        "arquivos_txt <- arquivos_txt[grepl(\"\\\\.txt$\", arquivos_txt)]\n",
        "\n",
        "# Loop de processamento de cada arquivo bruto\n",
        "for (arquivo in arquivos_txt) {\n",
        "  cat(\"\\nIniciando processamento do arquivo:\", arquivo, \"\\n\")\n",
        "\n",
        "  # 1. Construir o caminho completo do arquivo no bucket para baixar\n",
        "  caminho_arquivo_bruto <- arquivo\n",
        "\n",
        "  # 2. Baixar o arquivo .txt e ler como data.table\n",
        "  # gcs_get_object retorna o conteúdo do arquivo, passamos para fread via input\n",
        "  dados <- gcs_get_object(object_name = caminho_arquivo_bruto, bucket = bucket) %>%\n",
        "    fread(input = ., stringsAsFactors = TRUE, encoding = \"UTF-8\")\n",
        "\n",
        "  # 3. Extrai tipo do arquivo (CAGEDEXC, CAGEDMOV2021 etc)\n",
        "  tipo_arquivo <- sub(\"(CAGED[A-Z]+).*\", \"\\\\1\", arquivo)\n",
        "\n",
        "  # 4. Aplicar o processamento definido\n",
        "  dados_processados <- processamento(dados, tipo_arquivo)\n",
        "\n",
        "  # 5. Definir nome do arquivo .parquet para salvar localmente\n",
        "  arquivo_parquet <- gsub(\".txt\", \".parquet\", basename(arquivo))\n",
        "  write_parquet(dados_processados, arquivo_parquet)\n",
        "\n",
        "  # 6. Construir o caminho onde salvar no bucket processed\n",
        "  caminho_arquivo_processado <- paste0(prefixo_processados, arquivo_parquet)\n",
        "\n",
        "  # 7. Enviar o arquivo parquet gerado para o bucket processed no GCS\n",
        "  gcs_upload(\n",
        "    file = arquivo_parquet,\n",
        "    bucket = bucket,\n",
        "    name = caminho_arquivo_processado,\n",
        "    upload_type = \"simple\",\n",
        "    predefinedAcl = \"bucketLevel\")\n",
        "\n",
        "\n",
        "  # 8. Remover arquivo parquet local para liberar espaço\n",
        "  file.remove(arquivo_parquet)\n",
        "   cat(\"Arquivo processado e enviado com sucesso:\", caminho_arquivo_processado, \"\\n\")\n",
        "}\n",
        "\n",
        "cat(\"\\nProcessamento concluído para\", length(arquivos_txt), \"arquivo(s).\\n\")"
      ]
    }
  ],
  "metadata": {
    "colab": {
      "provenance": [],
      "toc_visible": true
    },
    "kernelspec": {
      "display_name": "R",
      "name": "ir"
    },
    "language_info": {
      "name": "R"
    }
  },
  "nbformat": 4,
  "nbformat_minor": 0
}
