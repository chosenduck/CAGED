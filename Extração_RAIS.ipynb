{
  "cells": [
    {
      "cell_type": "code",
      "source": [
        "!pip install -q chardet\n",
        "!pip install -q unidecode\n",
        "!pip install -q wget\n",
        "!pip install -q py7zr"
      ],
      "metadata": {
        "id": "pwg0JPRVA_Cg"
      },
      "execution_count": null,
      "outputs": []
    },
    {
      "cell_type": "code",
      "execution_count": null,
      "metadata": {
        "id": "rTK6y5lMA1x3"
      },
      "outputs": [],
      "source": [
        "import pandas as pd\n",
        "import numpy as np\n",
        "import sys\n",
        "import chardet\n",
        "import chardet.universaldetector\n",
        "import unidecode\n",
        "from functools import lru_cache\n",
        "import os\n",
        "from os import remove\n",
        "import gc\n",
        "import wget\n",
        "from py7zr import SevenZipFile\n",
        "import glob\n",
        "from io import StringIO"
      ]
    },
    {
      "cell_type": "code",
      "execution_count": null,
      "metadata": {
        "colab": {
          "base_uri": "https://localhost:8080/",
          "height": 36
        },
        "id": "DtpVNWA6A1x8",
        "outputId": "916e4a3d-edfc-4aaa-9a96-e47bc51bf766"
      },
      "outputs": [
        {
          "output_type": "execute_result",
          "data": {
            "text/plain": [
              "'/content'"
            ],
            "application/vnd.google.colaboratory.intrinsic+json": {
              "type": "string"
            }
          },
          "metadata": {},
          "execution_count": 6
        }
      ],
      "source": [
        "# Ajustando diretório de trabalho\n",
        "pwd = os.getcwd()"
      ]
    },
    {
      "cell_type": "code",
      "execution_count": null,
      "metadata": {
        "id": "dHMrmq9hA1x9"
      },
      "outputs": [],
      "source": [
        "def extract_rais(ano, tipo=None, regiao=None, uf=None):\n",
        "    \"\"\"\n",
        "    - Faz o download dos arquivos da RAIS para o ano especificado.\n",
        "    - O período da RAIS tem início em 1985.\n",
        "\n",
        "    - Para os anos maiores ou iguais a 2018, são 2 tipos de arquivos, ESTAB e VINC, sendo o tipo VINC subdividido em 7 regiões:\n",
        "        1. _CENTRO_OESTE\n",
        "        2. _MG_ES_RJ\n",
        "        3. _NI\n",
        "        4. _NORDESTE\n",
        "        5. _NORTE\n",
        "        6. _SP\n",
        "        7. _SUL\n",
        "\n",
        "    - Para anos de 1999 até 2017:\n",
        "        - Tipo ESTAB: 'ESTB' ou 'Estb' seguido do ano (e.g., ESTB2017)\n",
        "        - Tipo VINC: 'UF' seguido do ano (e.g., SP2017)\n",
        "\n",
        "    - Argumentos:\n",
        "        - ano (int): Ano do arquivo.\n",
        "        - tipo (str, opcional): Tipo de arquivo, pode ser 'ESTAB' ou 'VINC'. Se não fornecido, considera ambos.\n",
        "        - regiao (str, opcional): Região para o tipo 'VINC'. Deve ser uma das seguintes: ['_CENTRO_OESTE', '_MG_ES_RJ', '_NI', '_NORDESTE', '_NORTE', '_SP', '_SUL']. Se não for fornecido e o tipo for 'VINC', considera todas as regiões.\n",
        "        - uf (str, opcional): Sigla de um estado para os anos de 1999 até 2017. Exemplo: 'SP', 'RJ', 'MG'.\n",
        "    \"\"\"\n",
        "    # Validação do ano\n",
        "    if ano < 1985:\n",
        "        raise ValueError(\"O ano deve ser maior ou igual a 1985.\")\n",
        "\n",
        "    # Tipos e regiões possíveis\n",
        "    tipos_arquivos = ['ESTAB', 'VINC']\n",
        "    tipos_regioes = ['_CENTRO_OESTE', '_MG_ES_RJ', '_NI', '_NORDESTE', '_NORTE', '_SP', '_SUL']\n",
        "    ufs_brasil = [\n",
        "        'AC', 'AL', 'AM', 'AP', 'BA', 'CE', 'DF', 'ES', 'GO', 'MA', 'MG', 'MS', 'MT', 'PA',\n",
        "        'PB', 'PE', 'PI', 'PR', 'RJ', 'RN', 'RO', 'RR', 'RS', 'SC', 'SE', 'SP', 'TO'\n",
        "    ]\n",
        "\n",
        "    # Validação de tipo\n",
        "    tipos_selecionados = [tipo] if tipo else tipos_arquivos\n",
        "    if tipo and tipo not in tipos_arquivos:\n",
        "        raise ValueError(f\"Tipo inválido: {tipo}. Use um dos seguintes: {tipos_arquivos}\")\n",
        "\n",
        "    # Gerar URLs\n",
        "    urls = []\n",
        "\n",
        "    # Para anos entre 1999 e 2017\n",
        "    if ano <= 2017 and ano > 1999:\n",
        "        for t in tipos_selecionados:\n",
        "            if t == 'ESTAB':\n",
        "                urls.append(f'ftp://ftp.mtps.gov.br/pdet/microdados/RAIS/{ano}/ESTB{ano}.7z')\n",
        "                urls.append(f'ftp://ftp.mtps.gov.br/pdet/microdados/RAIS/{ano}/Estb{ano}.7z')  # Versão com \"Estb\"\n",
        "            elif t == 'VINC':\n",
        "                for estado in ufs_brasil:\n",
        "                    urls.append(f'ftp://ftp.mtps.gov.br/pdet/microdados/RAIS/{ano}/{estado}{ano}.7z')\n",
        "    else:\n",
        "        for t in tipos_selecionados:\n",
        "            if t == 'ESTAB':\n",
        "                urls.append(f'ftp://ftp.mtps.gov.br/pdet/microdados/RAIS/{ano}/RAIS_{t}_PUB.7z')\n",
        "            elif t == 'VINC':\n",
        "                regioes_selecionadas = [regiao] if regiao else tipos_regioes\n",
        "                for r in regioes_selecionadas:\n",
        "                    urls.append(f'ftp://ftp.mtps.gov.br/pdet/microdados/RAIS/{ano}/RAIS_{t}_PUB{r}.7z')\n",
        "\n",
        "    # Exibir as URLs\n",
        "    print(\"As seguintes URLs foram geradas:\")\n",
        "    for url in urls:\n",
        "        print(url)\n",
        "\n",
        "    # Confirmar com o usuário\n",
        "    resposta = input(\"\\nDeseja prosseguir com o download dessas URLs? (Sim/Não): \").strip().lower()\n",
        "    if resposta not in ['sim', 's', 'y', 'yes']:\n",
        "        print(\"Operação cancelada pelo usuário.\")\n",
        "        return\n",
        "\n",
        "    # Download e extração dos arquivos\n",
        "    for url in urls:\n",
        "        try:\n",
        "            print(f'\\nBaixando arquivo: {url}')\n",
        "            wget.download(url)\n",
        "            print(f'\\nDownload concluído: {url}')\n",
        "\n",
        "            # Extração do arquivo\n",
        "            nome_arquivo = url.split('/')[-1]\n",
        "            with SevenZipFile(nome_arquivo, mode='r') as archive:\n",
        "                archive.extractall()\n",
        "                print(f'Extração concluída: {nome_arquivo}')\n",
        "\n",
        "            # Remover o arquivo 7z após extração\n",
        "            remove(nome_arquivo)\n",
        "            print(f'Arquivo removido: {nome_arquivo}')\n",
        "\n",
        "        except FileNotFoundError:\n",
        "            print(f'\\nArquivo não encontrado ou incompatível no diretório de download: {url}')\n",
        "        except Exception as e:\n",
        "            print(f'\\nErro ao processar o arquivo {url}: {e}')"
      ]
    },
    {
      "cell_type": "code",
      "execution_count": null,
      "metadata": {
        "id": "UdVejYnpA1x-"
      },
      "outputs": [],
      "source": [
        "# Loop de extração\n",
        "for ano in range(2000, 2025):\n",
        "    extract_rais(ano)"
      ]
    },
    {
      "cell_type": "code",
      "source": [
        "# Extrair ano único\n",
        "extract_rais(2024)"
      ],
      "metadata": {
        "id": "MjIzZ_ypBurQ"
      },
      "execution_count": null,
      "outputs": []
    }
  ],
  "metadata": {
    "kernelspec": {
      "display_name": "base",
      "language": "python",
      "name": "python3"
    },
    "language_info": {
      "codemirror_mode": {
        "name": "ipython",
        "version": 3
      },
      "file_extension": ".py",
      "mimetype": "text/x-python",
      "name": "python",
      "nbconvert_exporter": "python",
      "pygments_lexer": "ipython3",
      "version": "3.12.4"
    },
    "colab": {
      "provenance": []
    }
  },
  "nbformat": 4,
  "nbformat_minor": 0
}