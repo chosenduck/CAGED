{
  "cells": [
    {
      "cell_type": "markdown",
      "metadata": {
        "id": "KeumLNfab1V6"
      },
      "source": [
        "# PREPARAÇÃO\n",
        "ATENÇÂO: Lembrar de alterar o ambiente de execução para R."
      ]
    },
    {
      "cell_type": "code",
      "execution_count": null,
      "metadata": {
        "colab": {
          "base_uri": "https://localhost:8080/",
          "height": 129
        },
        "id": "SkNqvWlibdKu",
        "outputId": "2397e255-fee5-4cd2-8c8b-e4db715ec6cc",
        "vscode": {
          "languageId": "r"
        }
      },
      "outputs": [],
      "source": [
        "# Limpando Environment e Memória ===============================================\n",
        "rm(list=ls(all=T))\n",
        "gc()"
      ]
    },
    {
      "cell_type": "code",
      "execution_count": null,
      "metadata": {
        "collapsed": true,
        "id": "a_ZUW2v8bynS",
        "vscode": {
          "languageId": "r"
        }
      },
      "outputs": [],
      "source": [
        "# Bibliotecas ==================================================================\n",
        "# Instala e carrega pacman (facilita o gerenciamento de pacotes)\n",
        "if (!requireNamespace(\"pacman\", quietly = TRUE)) install.packages(\"pacman\")\n",
        "\n",
        "library(pacman)\n",
        "\n",
        "p_load(\n",
        "  tidyverse,           # Conjunto de pacotes para manipulação e visualização de dados (dplyr, ggplot2, tidyr, purrr, stringr, lubridate etc)\n",
        "  plyr,                # Para usar o mapvalues\n",
        "  stringi,             # Processamento de linguagem natural\n",
        "  data.table,          # Manipulação eficiente e rápida de grandes tabelas de dados\n",
        "  janitor,             # Limpeza e organização de dados\n",
        "  openxlsx,            # Leitura e escrita de arquivos Excel (xlsx) sem necessidade do Excel instalado\n",
        "  readxl,              # Leitura de arquivos Excel (xls e xlsx)\n",
        "  rio,                 # Importação e exportação simplificada de vários formatos de arquivo\n",
        "  vroom,               # Leitura rápida de arquivos CSV e similares, otimizando desempenho\n",
        "  arrow,               # Interface para arquivos Apache Arrow e Parquet para alta performance em I/O\n",
        "  googleCloudStorageR  # Interface para Google Cloud Storage, upload/download de arquivos na nuvem\n",
        "  )"
      ]
    },
    {
      "cell_type": "code",
      "execution_count": null,
      "metadata": {
        "id": "SXStX6sMeqBz",
        "vscode": {
          "languageId": "r"
        }
      },
      "outputs": [],
      "source": [
        "# Acesso e autenticação ao GCS no R no Colab ===================================\n",
        "# (subir arquivo da chave no ambiente antes)\n",
        "chave_jason <- \"/content/minha_chave_json.json\"\n",
        "\n",
        "Sys.setenv(\"GCS_AUTH_FILE\" = chave_jason)\n",
        "Sys.setenv(\"GAR_CLIENT_JSON\" = chave_jason)\n",
        "\n",
        "gcs_auth(json_file = chave_jason)"
      ]
    },
    {
      "cell_type": "code",
      "execution_count": null,
      "metadata": {
        "id": "2gRJVWpse321",
        "vscode": {
          "languageId": "r"
        }
      },
      "outputs": [],
      "source": [
        "# Ajustando diretórios =========================================================\n",
        "bucket_name = ''\n",
        "path_raw = ''\n",
        "path_processed = ''"
      ]
    },
    {
      "cell_type": "code",
      "execution_count": null,
      "metadata": {
        "id": "4C_JSeJnk1VE",
        "vscode": {
          "languageId": "r"
        }
      },
      "outputs": [],
      "source": [
        "# Abrindo Dicionários (subir arquivo do dicionário no ambiente antes) ==========\n",
        "dicionarios <- lapply(\n",
        "  excel_sheets(\"dicionários.xlsx\"),\n",
        "  function(sheet) {\n",
        "    read_excel(\"dicionários.xlsx\", sheet = sheet)\n",
        "  }\n",
        ")\n",
        "\n",
        "dic_classes <- dicionarios[[1]]\n",
        "dic_faixaeta <- dicionarios[[2]]\n",
        "dic_escolaridade <- dicionarios[[3]]\n",
        "dic_sexo <- dicionarios[[4]]\n",
        "dic_racacor <- dicionarios[[5]]\n",
        "dic_local <- dicionarios[[6]]\n",
        "dic_empregador <- dicionarios[[7]]\n",
        "dic_estabelecimento <- dicionarios[[8]]\n",
        "dic_movimentacao <- dicionarios[[9]]\n",
        "dic_trabparcial <- dicionarios[[10]]\n",
        "dic_trabinterm <- dicionarios[[11]]\n",
        "dic_aprendiz <- dicionarios[[12]]\n",
        "dic_deficiencia <- dicionarios[[13]]\n",
        "dic_tamanestabjan <- dicionarios[[14]]\n",
        "dic_categoria <- dicionarios[[15]]\n",
        "dic_cbo2002ocupacao <- dicionarios[[16]]\n",
        "\n",
        "rm(dicionarios)"
      ]
    },
    {
      "cell_type": "markdown",
      "metadata": {
        "id": "o3wbkOTFmDzA"
      },
      "source": [
        "# PROCESSAMENTO"
      ]
    },
    {
      "cell_type": "code",
      "execution_count": null,
      "metadata": {
        "id": "XpUh41C9OyuI",
        "vscode": {
          "languageId": "r"
        }
      },
      "outputs": [],
      "source": [
        "# Funções ======================================================================\n",
        "# Parâmetros -------------------------------------------------------------------\n",
        "salario_minimo <- c(\n",
        "  '2020' = 1045,\n",
        "  '2021' = 1100,\n",
        "  '2022' = 1212,\n",
        "  '2023' = 1302,\n",
        "  '2024' = 1412,\n",
        "  '2025' = 1518\n",
        "  )\n",
        "\n",
        "# Funções auxiliares -----------------------------------------------------------\n",
        "adicionar_faixaeta <- function(idade) {\n",
        "  case_when(\n",
        "    idade >= 10 & idade <= 14 ~ 1,\n",
        "    idade >= 15 & idade <= 17 ~ 2,\n",
        "    idade >= 18 & idade <= 24 ~ 3,\n",
        "    idade >= 25 & idade <= 29 ~ 4,\n",
        "    idade >= 30 & idade <= 39 ~ 5,\n",
        "    idade >= 40 & idade <= 49 ~ 6,\n",
        "    idade >= 50 & idade <= 64 ~ 7,\n",
        "    idade >= 65 ~ 8,\n",
        "    TRUE ~ 99\n",
        "  )\n",
        "}\n",
        "\n",
        "adicionar_regiao <- function(regiao) {\n",
        "  case_when(\n",
        "    regiao == 1 ~ \"Norte\",\n",
        "    regiao == 2 ~ \"Nordeste\",\n",
        "    regiao == 3 ~ \"Sudeste\",\n",
        "    regiao == 4 ~ \"Sul\",\n",
        "    regiao == 5 ~ \"Centro-Oeste\",\n",
        "    TRUE ~ \"Não Informado\"\n",
        "  )\n",
        "}\n",
        "\n",
        "# Função PRINCIPAL de processamento --------------------------------------------\n",
        "processamento <- function(dados, tipo_arquivo) {\n",
        "\n",
        "  ## 1. Padroniza nomes --------------------------------------------------------\n",
        "  setnames(\n",
        "    dados,\n",
        "    old = names(dados),\n",
        "    new = tolower(stri_trans_general(names(dados), \"Latin-ASCII\"))\n",
        "    )\n",
        "\n",
        "  ## 2. Corrige sinal para CAGEDEXC ------------------------------------------\n",
        "  if (tipo_arquivo == \"CAGEDEXC\") {\n",
        "  dados[, `:=`(\n",
        "    admissoes         =  as.integer(ifelse(saldomovimentacao == 1, -1, 0)),\n",
        "    desligamentos     =  as.integer(ifelse(saldomovimentacao == -1, -1, 0)),\n",
        "    saldomovimentacao =  as.integer(ifelse(saldomovimentacao == 1, -1, 1))\n",
        "  )]\n",
        "} else {\n",
        "  dados[, `:=`(\n",
        "    admissoes     = as.integer(saldomovimentacao == 1),\n",
        "    desligamentos = as.integer(saldomovimentacao == -1)\n",
        "  )]\n",
        "}\n",
        "\n",
        "  ## 4. Campos de data e salário --------------------------------------------\n",
        "  dados[, ano := substr(competenciamov, 1, 4)]\n",
        "  dados[, competenciamov := as.Date(\n",
        "    paste0(substr(as.character(competenciamov), 1, 6), \"01\"),\n",
        "    format = \"%Y%m%d\"\n",
        "  )]\n",
        "\n",
        "  dados[, salario := as.numeric(\n",
        "    stringr::str_replace(stringr::str_replace_na(as.character(salario), \"0\"), \",\", \".\")\n",
        "  )]\n",
        "  dados[is.na(salario), salario := 0]\n",
        "\n",
        "  dados[, salario_minimo_ano := salario_minimo[ano]]\n",
        "\n",
        "  dados[, faixa_salarial := dplyr::case_when(\n",
        "    salario <= 1 * salario_minimo_ano                         ~ \"Até 1 SM\",\n",
        "    salario <= 2 * salario_minimo_ano                         ~ \"1–2 SM\",\n",
        "    salario <= 3 * salario_minimo_ano                         ~ \"2–3 SM\",\n",
        "    salario <= 4 * salario_minimo_ano                         ~ \"3–4 SM\",\n",
        "    salario <= 5 * salario_minimo_ano                         ~ \"4–5 SM\",\n",
        "    salario <= 10 * salario_minimo_ano                        ~ \"5–10 SM\",\n",
        "    salario > 10 * salario_minimo_ano                         ~ \"Acima de 10 SM\",\n",
        "    TRUE                                                      ~ \"Não informado\"\n",
        "  )]\n",
        "\n",
        "  ## 5. Faixa etária ---------------------------------------------------------\n",
        "  dados[, faixaetaria := adicionar_faixaeta(idade)]\n",
        "\n",
        "  ## 6. Mapeia dicionários ---------------------------------------------------\n",
        "  dados[, sexo              := plyr::mapvalues(sexo,              dic_sexo$cod,          dic_sexo$nom,          warn_missing = FALSE)]\n",
        "  dados[, racacor           := plyr::mapvalues(racacor,           dic_racacor$cod,       dic_racacor$nom,       warn_missing = FALSE)]\n",
        "  dados[, graudeinstrucao   := plyr::mapvalues(graudeinstrucao,   dic_escolaridade$cod,  dic_escolaridade$nom,  warn_missing = FALSE)]\n",
        "  dados[, faixaeta          := plyr::mapvalues(faixaetaria,       dic_faixaeta$cod,      dic_faixaeta$nom,      warn_missing = FALSE)]\n",
        "\n",
        "  dados[, subclasse_original := subclasse]\n",
        "  dados[, `:=`(\n",
        "    subclasse  = plyr::mapvalues(subclasse_original, dic_classes$Subclasse, dic_classes$`Nome Subclasse`, warn_missing = FALSE),\n",
        "    classe     = plyr::mapvalues(subclasse_original, dic_classes$Subclasse, dic_classes$`Nome Classe`,    warn_missing = FALSE),\n",
        "    secao      = plyr::mapvalues(subclasse_original, dic_classes$Subclasse, dic_classes$`Nome Seção`,     warn_missing = FALSE)\n",
        "  )]\n",
        "\n",
        "  dados[, uf        := plyr::mapvalues(uf,        dic_local$UF,        dic_local$Nome_UF,   warn_missing = FALSE)]\n",
        "  dados[, municipio := as.character(municipio)]\n",
        "  dados[, municipio := plyr::mapvalues(municipio, dic_local$cod_mun_6, dic_local$nom_mun,   warn_missing = FALSE)]\n",
        "\n",
        "  dados[, tipoempregador      := plyr::mapvalues(tipoempregador,      dic_empregador$cod,    dic_empregador$nom,    warn_missing = FALSE)]\n",
        "  dados[, tipoestabelecimento := plyr::mapvalues(tipoestabelecimento, dic_estabelecimento$cod, dic_estabelecimento$nom, warn_missing = FALSE)]\n",
        "  dados[, tipomovimentacao    := plyr::mapvalues(tipomovimentacao,    dic_movimentacao$cod,  dic_movimentacao$nom,  warn_missing = FALSE)]\n",
        "  dados[, indtrabparcial      := plyr::mapvalues(indtrabparcial,      dic_trabparcial$cod,   dic_trabparcial$nom,   warn_missing = FALSE)]\n",
        "  dados[, indtrabintermitente := plyr::mapvalues(indtrabintermitente, dic_trabinterm$cod,    dic_trabinterm$nom,    warn_missing = FALSE)]\n",
        "  dados[, indicadoraprendiz   := plyr::mapvalues(indicadoraprendiz,   dic_aprendiz$cod,      dic_aprendiz$nom,      warn_missing = FALSE)]\n",
        "  dados[, tipodedeficiencia   := plyr::mapvalues(tipodedeficiencia,   dic_deficiencia$cod,   dic_deficiencia$nom,   warn_missing = FALSE)]\n",
        "  dados[, tamestabjan         := plyr::mapvalues(tamestabjan,         dic_tamanestabjan$cod, dic_tamanestabjan$nom, warn_missing = FALSE)]\n",
        "  dados[, categoria           := plyr::mapvalues(categoria,           dic_categoria$cod,     dic_categoria$nom,     warn_missing = FALSE)]\n",
        "  dados[, cbo2002ocupacao     := plyr::mapvalues(cbo2002ocupacao,     dic_cbo2002ocupacao$cod, dic_cbo2002ocupacao$nom, warn_missing = FALSE)]\n",
        "\n",
        "  ## 7. Região nomeada -------------------------------------------------------\n",
        "  dados[, regiao := adicionar_regiao(regiao)]\n",
        "\n",
        "  ## 8. Limpa colunas auxiliares --------------------------------------------\n",
        "  dados[, c(\"ano\", \"subclasse_original\", \"salario_minimo_ano\", \"faixaetaria\") := NULL]\n",
        "\n",
        "  ## 9. Retorna **linhas individuais** --------------------------------------\n",
        "  return(dados)\n",
        "}"
      ]
    },
    {
      "cell_type": "code",
      "execution_count": null,
      "metadata": {
        "colab": {
          "base_uri": "https://localhost:8080/"
        },
        "collapsed": true,
        "id": "bzs85nLXoJoE",
        "outputId": "20e4ce9e-b7a6-4bff-cedf-6c82ad108c37",
        "vscode": {
          "languageId": "r"
        }
      },
      "outputs": [],
      "source": [
        "# Listar arquivos .txt no bucket\n",
        "arquivos_txt <- gcs_list_objects(bucket = bucket_name, prefix = path_raw)$name\n",
        "arquivos_txt <- arquivos_txt[grepl(\"\\\\.txt$\", arquivos_txt)]\n",
        "\n",
        "# Loop de processamento de cada arquivo bruto\n",
        "for (arquivo in arquivos_txt) {\n",
        "\n",
        "  # 1. Construir o caminho completo do arquivo no bucket para baixar\n",
        "  caminho_arquivo_bruto <- arquivo\n",
        "\n",
        "  # 2. Baixar o arquivo .txt e ler como data.table\n",
        "  dados <- tryCatch({\n",
        "    gcs_get_object(object_name = caminho_arquivo_bruto, bucket = bucket_name) %>%\n",
        "      fread(input = ., stringsAsFactors = TRUE, encoding = \"UTF-8\")\n",
        "  }, error = function(e) {\n",
        "    cat(\"Erro ao ler:\", arquivo, \"-\", e$message, \"\\n\")\n",
        "    return(NULL)\n",
        "  })\n",
        "\n",
        "  if (is.null(dados)) next\n",
        "\n",
        "  # 3. Extrai partições do arquivo\n",
        "  tipo_arquivo <- sub(\"(CAGED[A-Z]+).*\", \"\\\\1\", basename(arquivo))\n",
        "  ano_arquivo <- stringr::str_extract(arquivo, \"ano=\\\\d{4}\")\n",
        "  mes_arquivo <- stringr::str_extract(arquivo, \"mes=\\\\d{2}\")\n",
        "\n",
        "  # 4. Aplicar o processamento definido\n",
        "  dados_processados <- processamento(dados, tipo_arquivo)\n",
        "\n",
        "  # 5. Definir nome do arquivo .parquet para salvar localmente\n",
        "  arquivo_parquet <- gsub(\".txt\", \".parquet\", basename(arquivo))\n",
        "  write_parquet(dados_processados, arquivo_parquet)\n",
        "\n",
        "  # 6. Construir o caminho onde salvar no bucket processed\n",
        "  caminho_arquivo_processado <- paste0(path_processed, \"/\", ano_arquivo, \"/\", mes_arquivo, \"/\", arquivo_parquet)\n",
        "\n",
        "  # 7. Enviar o arquivo parquet gerado para o bucket processed no GCS\n",
        "  gcs_upload(\n",
        "    file = arquivo_parquet,\n",
        "    bucket = bucket_name,\n",
        "    name = caminho_arquivo_processado,\n",
        "    upload_type = \"simple\",\n",
        "    predefinedAcl = \"bucketLevel\")\n",
        "\n",
        "  # 8. Remover arquivo parquet local para liberar espaço\n",
        "  file.remove(arquivo_parquet)\n",
        "   cat(\"Arquivo processado e enviado com sucesso:\", caminho_arquivo_processado, \"\\n\")\n",
        "}\n",
        "\n",
        "cat(\"\\nProcessamento concluído para\", length(arquivos_txt), \"arquivo(s).\\n\")"
      ]
    }
  ],
  "metadata": {
    "colab": {
      "provenance": []
    },
    "kernelspec": {
      "display_name": "R",
      "name": "ir"
    },
    "language_info": {
      "name": "R"
    }
  },
  "nbformat": 4,
  "nbformat_minor": 0
}
